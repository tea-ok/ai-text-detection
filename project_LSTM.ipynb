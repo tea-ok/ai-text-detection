{
 "cells": [
  {
   "cell_type": "markdown",
   "metadata": {},
   "source": [
    "# AI Text Cassification with PyTorch + LSTM"
   ]
  },
  {
   "cell_type": "markdown",
   "metadata": {},
   "source": [
    "**Taavi Kalaluka, 2024**"
   ]
  },
  {
   "cell_type": "markdown",
   "metadata": {},
   "source": [
    "## Introduction"
   ]
  },
  {
   "cell_type": "markdown",
   "metadata": {},
   "source": [
    "The idea for this project came from a deep interest in AI and its effect on society. Ever since the advent of ChatGPT, I've been wondering how it will impact our society. I have a little sister in 7th grade and I thought about how different school must be for her compared to how it was for me, since ChatGPT excels at simple essays. Surely many students in middle school would be tempted to use ChatGPT to write their essays for English class, when back in the days we had to do everything with our own brains.\n",
    "\n",
    "Then I remembered hearing about an AI detection tool on Instagram, where an American college student had created a system for identifying AI text. I was sceptical at how well such a tool would work. How could you possibly detect AI in text? Human text is so complex, and humans have very different writing styles. I hypothesized that he must have used AI to detect AI, fighting fire with fire. I was motivated to try something similar, to see how well it would work out.\n",
    "\n",
    "I've been tinkering with AI for quite a long time now, having completed Stanford Online's Machine Learning Specialization in early 2023 and messed around with custom versions of different LLMs in my free time. I initially thought that I would have to use a pre-trained language model for this project, and train a custom version to detect AI. However, I also figured that it would be an excellent learning experience to implement my own model from scratch, even though the results might not be as good.\n",
    "\n",
    "For this project, I decided to use PyTorch since we used Tensorflow in this course and I thought it would be a good opportunity to use another deep learning framework. Initially, it was quite complicated to make the switch, as PyTorch requires you to do many things manually which Tensorflow does automatically out of the box (thanks to Keras for making it so easy). Even though PyTorch is a lot more code, it has the advantage of allowing for more flexbility and customization. Overall, I'm a big fan of PyTorch!"
   ]
  },
  {
   "cell_type": "markdown",
   "metadata": {},
   "source": [
    "## Implementation"
   ]
  },
  {
   "cell_type": "markdown",
   "metadata": {},
   "source": [
    "### Imports"
   ]
  },
  {
   "cell_type": "code",
   "execution_count": 20,
   "metadata": {},
   "outputs": [],
   "source": [
    "# Pandas for data loading\n",
    "import pandas as pd\n",
    "\n",
    "# Tqdm for \n",
    "from tqdm import tqdm\n",
    "\n",
    "# Seaborn and matplotlib for visualization\n",
    "import seaborn as sns\n",
    "import matplotlib.pyplot as plt\n",
    "\n",
    "# PyTorch for model building\n",
    "import torch\n",
    "import torch.nn as nn\n",
    "from torch.utils.data import Dataset\n",
    "from torch.utils.data import random_split\n",
    "from torch.nn.utils.rnn import pack_padded_sequence, pad_packed_sequence\n",
    "\n",
    "# BERT Tokenizer from the transformers library\n",
    "from transformers import BertTokenizer\n",
    "\n",
    "# Scikit-learn for model evaluation\n",
    "from sklearn.metrics import classification_report, confusion_matrix"
   ]
  },
  {
   "cell_type": "markdown",
   "metadata": {},
   "source": [
    "### Data loading and initial analysis"
   ]
  },
  {
   "cell_type": "markdown",
   "metadata": {},
   "source": [
    "I used Google Colab for running this notebook, because of the free T4 GPUs they allow you to use. This made training significantly faster, and allowed me to test many different versions of the model without frying my computer. However, for everything apart from the training of the model I still used my computer, and that's why I have two different ways of loading the data below, depending on whether I'm using my computer or Colab."
   ]
  },
  {
   "cell_type": "code",
   "execution_count": null,
   "metadata": {},
   "outputs": [],
   "source": [
    "# # Colab stuff\n",
    "\n",
    "# from google.colab import drive\n",
    "\n",
    "# drive.mount('/content/drive')\n",
    "\n",
    "# df = pd.read_csv('/content/drive/My Drive/AI classification/data/AI_Human.csv')\n",
    "# df.head()"
   ]
  },
  {
   "cell_type": "code",
   "execution_count": 21,
   "metadata": {},
   "outputs": [
    {
     "name": "stdout",
     "output_type": "stream",
     "text": [
      "Number of rows: 487235\n"
     ]
    },
    {
     "data": {
      "text/html": [
       "<div>\n",
       "<style scoped>\n",
       "    .dataframe tbody tr th:only-of-type {\n",
       "        vertical-align: middle;\n",
       "    }\n",
       "\n",
       "    .dataframe tbody tr th {\n",
       "        vertical-align: top;\n",
       "    }\n",
       "\n",
       "    .dataframe thead th {\n",
       "        text-align: right;\n",
       "    }\n",
       "</style>\n",
       "<table border=\"1\" class=\"dataframe\">\n",
       "  <thead>\n",
       "    <tr style=\"text-align: right;\">\n",
       "      <th></th>\n",
       "      <th>text</th>\n",
       "      <th>generated</th>\n",
       "    </tr>\n",
       "  </thead>\n",
       "  <tbody>\n",
       "    <tr>\n",
       "      <th>0</th>\n",
       "      <td>Cars. Cars have been around since they became ...</td>\n",
       "      <td>0.0</td>\n",
       "    </tr>\n",
       "    <tr>\n",
       "      <th>1</th>\n",
       "      <td>Transportation is a large necessity in most co...</td>\n",
       "      <td>0.0</td>\n",
       "    </tr>\n",
       "    <tr>\n",
       "      <th>2</th>\n",
       "      <td>\"America's love affair with it's vehicles seem...</td>\n",
       "      <td>0.0</td>\n",
       "    </tr>\n",
       "    <tr>\n",
       "      <th>3</th>\n",
       "      <td>How often do you ride in a car? Do you drive a...</td>\n",
       "      <td>0.0</td>\n",
       "    </tr>\n",
       "    <tr>\n",
       "      <th>4</th>\n",
       "      <td>Cars are a wonderful thing. They are perhaps o...</td>\n",
       "      <td>0.0</td>\n",
       "    </tr>\n",
       "  </tbody>\n",
       "</table>\n",
       "</div>"
      ],
      "text/plain": [
       "                                                text  generated\n",
       "0  Cars. Cars have been around since they became ...        0.0\n",
       "1  Transportation is a large necessity in most co...        0.0\n",
       "2  \"America's love affair with it's vehicles seem...        0.0\n",
       "3  How often do you ride in a car? Do you drive a...        0.0\n",
       "4  Cars are a wonderful thing. They are perhaps o...        0.0"
      ]
     },
     "execution_count": 21,
     "metadata": {},
     "output_type": "execute_result"
    }
   ],
   "source": [
    "df = pd.read_csv('data/AI_Human.csv')\n",
    "print(f'Number of rows: {len(df)}')\n",
    "df.head()"
   ]
  },
  {
   "cell_type": "markdown",
   "metadata": {},
   "source": [
    "The dataset contains 487,235 rows, where each row is an example. The column `text` contains the essay and the column `generated` tells us whether it is human or AI text:\n",
    "\n",
    "- 0.0 = human\n",
    "- 1.0 = AI\n",
    "\n",
    "The `.csv` file is 1.11 GB in size, which is quite large for a file containing text. This is why I decided to use a smaller subset of the data for this project, containing only 10,000 examples. Using the whole dataset would take an incredibly long time to train on the free Colab GPU."
   ]
  },
  {
   "cell_type": "code",
   "execution_count": 22,
   "metadata": {},
   "outputs": [
    {
     "name": "stdout",
     "output_type": "stream",
     "text": [
      "Number of rows in data subset: 10000\n"
     ]
    }
   ],
   "source": [
    "# Generating a subset of the dataset with 10,000 rows\n",
    "df_zero = df[df['generated'] == 0]\n",
    "df_one = df[df['generated'] == 1]\n",
    "\n",
    "# Equal number of positive and negative casses\n",
    "df_zero_sampled = df_zero.sample(5000, random_state=1)\n",
    "df_one_sampled = df_one.sample(5000, random_state=1)\n",
    "\n",
    "df = pd.concat([df_zero_sampled, df_one_sampled])\n",
    "df.reset_index(inplace=True)\n",
    "print(f'Number of rows in data subset: {len(df)}')"
   ]
  },
  {
   "cell_type": "markdown",
   "metadata": {},
   "source": [
    "I opted for the BERT tokenizer provided by the Hugging Face's Transformers library here, due to its many advantages:\n",
    "\n",
    "- **WordPiece Tokenization**: BERT uses WordPiece tokenization. This method breaks words into subwords, which can help models handle unseen words or rare words. For example, the word \"unhappiness\" might be tokenized into \"un\", \"##happy\", and \"##ness\".\n",
    "\n",
    "- **Handling of Out-of-Vocabulary Words**: Thanks to WordPiece tokenization, BERT can handle out-of-vocabulary words, breaking them down into subwords that it has seen during training.\n",
    "\n",
    "- **Multilingual Support**: The BERT tokenizer has multilingual support, meaning it can handle text in many different languages. The text in this project is in English, but it would be interesting to try it on other languages as well.\n",
    "\n",
    "- **Efficiency**: The BERT tokenizer is efficient and can quickly tokenize large amounts of text.\n",
    "\n",
    "- **Easy to Use**: With the Transformers library, using the BERT tokenizer is very simple, it can be done by instatiating a `BertTokenizer` class with the name of the pre-trained model you want to use.\n",
    "\n",
    "Let's take a look at the dataset, by tokenizing it with `bert-base-uncased` and displaying distribution of tokens:"
   ]
  },
  {
   "cell_type": "code",
   "execution_count": 23,
   "metadata": {},
   "outputs": [
    {
     "data": {
      "image/png": "[encoded data removed]",
      "text/plain": [
       "<Figure size 1000x500 with 1 Axes>"
      ]
     },
     "metadata": {},
     "output_type": "display_data"
    },
    {
     "name": "stdout",
     "output_type": "stream",
     "text": [
      "Maximum number of tokens in a text: 512\n",
      "95th percentile of number of tokens in a text: 512.0\n"
     ]
    }
   ],
   "source": [
    "# Initializing the tokenizer\n",
    "tokenizer = BertTokenizer.from_pretrained('bert-base-uncased')\n",
    "\n",
    "# Tokenizing the text and calculating the number of tokens in each text\n",
    "df['num_tokens'] = df['text'].apply(lambda x: len(tokenizer.encode(x, truncation=True)))\n",
    "\n",
    "plt.figure(figsize=(10, 5))\n",
    "plt.hist(df['num_tokens'], bins=50)\n",
    "plt.xlabel('Number of Tokens')\n",
    "plt.ylabel('Number of Texts')\n",
    "plt.title('Distribution of Number of Tokens in Texts')\n",
    "plt.show()\n",
    "\n",
    "print(f\"Maximum number of tokens in a text: {df['num_tokens'].max()}\")\n",
    "print(f\"95th percentile of number of tokens in a text: {df['num_tokens'].quantile(0.95)}\")"
   ]
  },
  {
   "cell_type": "markdown",
   "metadata": {},
   "source": [
    "From this histogram, it is evident that the vast majority of essays are around 512 tokens in length. The reason for such a massive spike around this value is most likely due to the maximum number of tokens allowed with the BERT tokenizer, which is 512. So, many of the essays were longer than 512 tokens, but they were truncated to 512 tokens. This should be fine, and means that the training of the model will be more efficient than if we used other tokenizers and more tokens."
   ]
  },
  {
   "cell_type": "markdown",
   "metadata": {},
   "source": [
    "### Creating The Dataset"
   ]
  },
  {
   "cell_type": "markdown",
   "metadata": {},
   "source": [
    "Below, I have defined a custom `TextDataset` class, which inherits from PyTorch's `Dataset` class. An instance of the object takes in the following parameters:\n",
    "\n",
    "1. `dataframe` - The dataframe from which the dataset should be created\n",
    "2. `tokenizer` - The tokenizer used for the dataset\n",
    "3. `max_len` - The maximum length of each data input"
   ]
  },
  {
   "cell_type": "code",
   "execution_count": 24,
   "metadata": {},
   "outputs": [],
   "source": [
    "class TextDataset(Dataset):\n",
    "    def __init__(self, dataframe, tokenizer, max_len):\n",
    "        self.tokenizer = tokenizer\n",
    "        self.data = dataframe\n",
    "        self.text = dataframe.text\n",
    "        self.targets = dataframe.generated\n",
    "        self.max_len = max_len\n",
    "\n",
    "    def __len__(self):\n",
    "        return len(self.text)\n",
    "\n",
    "    def __getitem__(self, index):\n",
    "        text = str(self.text[index])\n",
    "        text = \" \".join(text.split())\n",
    "\n",
    "        inputs = self.tokenizer.encode_plus(\n",
    "            text,\n",
    "            None,\n",
    "            add_special_tokens=True,\n",
    "            max_length=self.max_len,\n",
    "            padding='max_length',\n",
    "            truncation=True,\n",
    "            return_token_type_ids=True\n",
    "        )\n",
    "        ids = inputs['input_ids']\n",
    "\n",
    "        # Calculating the length of the sequence before padding\n",
    "        text_length = len([token for token in ids if token != self.tokenizer.pad_token_id])\n",
    "\n",
    "        return {\n",
    "            'ids': torch.tensor(ids, dtype=torch.long),\n",
    "            'targets': torch.tensor(self.targets[index], dtype=torch.float),\n",
    "            'text_lengths': torch.tensor(text_length, dtype=torch.long)\n",
    "        }"
   ]
  },
  {
   "cell_type": "markdown",
   "metadata": {},
   "source": [
    "`__getitem__` will be called with each index in the dataframe later on by the data loaders, returning the following dictionary for each call:\n",
    "\n",
    "- `ids` - The text (essay) as a tensor\n",
    "- `targets` - The target (human or AI, 0 or 1) as a tensor\n",
    "- `text_lengths` - The length of the essay in tokens, excluding padding\n",
    "\n",
    "Below, I've set the `max_len` variable to 512, as that was the number of tokens for most essays in the data. Essays longer than this will be truncated to 512 tokens, and essays longer than this will be padded to 512, ensuring that all sequences passed to the model are of the same length."
   ]
  },
  {
   "cell_type": "code",
   "execution_count": 25,
   "metadata": {},
   "outputs": [],
   "source": [
    "max_len = 512\n",
    "\n",
    "# Create the Dataset\n",
    "dataset = TextDataset(df, tokenizer, max_len)"
   ]
  },
  {
   "cell_type": "markdown",
   "metadata": {},
   "source": [
    "I wrote a function to create the data loaders, so that train/test/validation splits can be easily modified later on. I currently have them set to 80% for training, 10% for validation and 10% for testing, along with a batch size of 128.\n",
    "\n",
    "The function returns data loaders for each of these using the specified parameters, taking in a `TextDataset` object created earlier."
   ]
  },
  {
   "cell_type": "code",
   "execution_count": 26,
   "metadata": {},
   "outputs": [],
   "source": [
    "def create_data_loaders(dataset, train_prop=0.8, val_prop=0.1, test_prop=0.1, batch_size=128):\n",
    "    train_len = int(train_prop * len(dataset))\n",
    "    val_len = int(val_prop * len(dataset))\n",
    "    test_len = int(test_prop * len(dataset))\n",
    "\n",
    "    train_set, val_set, test_set = random_split(dataset, [train_len, val_len, test_len])\n",
    "\n",
    "    train_loader = torch.utils.data.DataLoader(train_set, batch_size=batch_size, shuffle=True)\n",
    "    val_loader = torch.utils.data.DataLoader(val_set, batch_size=batch_size, shuffle=False)\n",
    "    test_loader = torch.utils.data.DataLoader(test_set, batch_size=batch_size, shuffle=False)\n",
    "\n",
    "    return train_loader, val_loader, test_loader"
   ]
  },
  {
   "cell_type": "code",
   "execution_count": 27,
   "metadata": {},
   "outputs": [],
   "source": [
    "train_loader, val_loader, test_loader = create_data_loaders(dataset)"
   ]
  },
  {
   "cell_type": "markdown",
   "metadata": {},
   "source": [
    "### Building The Model"
   ]
  },
  {
   "cell_type": "markdown",
   "metadata": {},
   "source": [
    "This part was rather tricky, as PyTorch requires you to implement the `forward` function yourself. However, with the help of some blog posts I finally figured it out.\n",
    "\n",
    "The class has the following components:\n",
    "\n",
    "1. **Embedding Layer (`self.embedding`)**: This layer transforms the input words (represented as numbers) into dense vectors of fixed size. The `vocab_size` parameter is the number of unique words in the vocabulary, and `embedding_dim` is the size of the embedding vectors.\n",
    "\n",
    "2. **LSTM Layer (`self.lstm`)**: This is the main component of the model. It's a type of recurrent neural network (RNN) that can learn long-term dependencies between words in the text. The `input_size` is the size of the input to each LSTM cell (which is the size of the embedding), and `dimension` is the size of the hidden state and cell state of the LSTM.\n",
    "\n",
    "3. **Dropout Layer (`self.drop`)**: This layer randomly sets a fraction `p` of the input units to 0 at each update during training time, which helps prevent overfitting.\n",
    "\n",
    "4. **Linear Layer (`self.fc`)**: This layer is a linear transformation (y = Ax + b) that is applied to the output of the LSTM layer. It reduces the dimension from `dimension` to 1. The output of this layer is then passed through a sigmoid function to output a probability.\n",
    "\n",
    "In the `forward` method, the input text is passed through each of these layers in turn. The LSTM layer uses packed sequences for efficiency (`pack_padded_sequence`), and the output from the LSTM is unpacked and the final hidden state is extracted and passed through the dropout and linear layers. The output is then squeezed to remove any extra dimensions and a sigmoid function is applied to get the final output probability."
   ]
  },
  {
   "cell_type": "code",
   "execution_count": 28,
   "metadata": {},
   "outputs": [],
   "source": [
    "class LSTMClassifier(nn.Module):\n",
    "\n",
    "    def __init__(self, vocab_size, embedding_dim, dimension):\n",
    "        super(LSTMClassifier, self).__init__()\n",
    "\n",
    "        self.embedding = nn.Embedding(vocab_size, embedding_dim)\n",
    "        self.dimension = dimension\n",
    "        self.lstm = nn.LSTM(input_size=embedding_dim,\n",
    "                            hidden_size=dimension,\n",
    "                            num_layers=1,\n",
    "                            batch_first=True)\n",
    "        \n",
    "        self.drop = nn.Dropout(p=0.5)\n",
    "\n",
    "        self.fc = nn.Linear(dimension, 1)\n",
    "\n",
    "    def forward(self, text, text_len):\n",
    "\n",
    "        text_emb = self.embedding(text)\n",
    "\n",
    "        packed_input = pack_padded_sequence(text_emb, text_len, batch_first=True)\n",
    "        packed_output, _ = self.lstm(packed_input)\n",
    "        output, _ = pad_packed_sequence(packed_output, batch_first=True)\n",
    "\n",
    "        out_forward = output[range(len(output)), text_len - 1, :self.dimension]\n",
    "        text_fea = self.drop(out_forward)\n",
    "\n",
    "        text_fea = self.fc(text_fea)\n",
    "        text_fea = torch.squeeze(text_fea, 1)\n",
    "        text_out = torch.sigmoid(text_fea)\n",
    "\n",
    "        return text_out"
   ]
  },
  {
   "cell_type": "markdown",
   "metadata": {},
   "source": [
    "Creating the mode, with a `vocab_size` equal to the length of the tokenizer's vocabulary, a `dimension` of 32, and an `embedding_dim` of 100.\n",
    "\n",
    "1. `embedding_dim` of 100: This refers to the size of the vector space in which words will be embedded. It defines the size of the output vectors from this layer for each word. For example, it could be 32 or 100 or 256, etc. This is the size of the dense vector that each word will be transformed into. In other words, each input word will be represented by a vector of size 100.\n",
    "\n",
    "2. `dimension` of 32: This is the dimensionality of the output space of LSTM layer. In other words, it is the number of nodes in the hidden layer of the LSTM. This means that the LSTM will output vectors of size 32. This is often called the number of \"hidden units\" or \"LSTM units\". This is a hyperparameter you can tune, and different values can result in different model performance.\n",
    "\n",
    "3. `vocab_size` of `len(tokenizer.vocab)`: This is a parameter that specifies the number of unique words in the vocabulary. In the context of this model, it's used to define the size of the embedding layer, which will learn a vector representation for each word in the vocabulary.\n",
    "\n",
    "    `len(tokenizer.vocab)` gives the number of unique words that the tokenizer can recognize. By setting `vocab_size` to that, we're ensuring that the embedding layer can learn a unique vector representation for each word in the tokenizer's vocabulary."
   ]
  },
  {
   "cell_type": "code",
   "execution_count": 37,
   "metadata": {},
   "outputs": [
    {
     "name": "stdout",
     "output_type": "stream",
     "text": [
      "Vocab size: 30522\n"
     ]
    }
   ],
   "source": [
    "# Defining model hyperparameters\n",
    "vocab_size = len(tokenizer.vocab)\n",
    "dimension = 32\n",
    "embedding_dim = 100\n",
    "\n",
    "print(f'Vocab size: {vocab_size}')\n",
    "model = LSTMClassifier(vocab_size, embedding_dim, dimension)"
   ]
  },
  {
   "cell_type": "markdown",
   "metadata": {},
   "source": [
    "Taking a look at the model summary. Unfortunately, we can't do it in a nice visual way as we can with Tensorflow, but we can still inspect the architecture:"
   ]
  },
  {
   "cell_type": "code",
   "execution_count": 38,
   "metadata": {},
   "outputs": [
    {
     "name": "stdout",
     "output_type": "stream",
     "text": [
      "Model Summary:\n",
      "--------------------\n",
      "embedding.weight\t[30522, 100]\t3052200\n",
      "lstm.weight_ih_l0\t[128, 100]\t12800\n",
      "lstm.weight_hh_l0\t[128, 32]\t4096\n",
      "lstm.bias_ih_l0\t[128]\t128\n",
      "lstm.bias_hh_l0\t[128]\t128\n",
      "fc.weight\t[1, 32]\t32\n",
      "fc.bias\t[1]\t1\n",
      "--------------------\n",
      "Total Params:3069385\n"
     ]
    }
   ],
   "source": [
    "def print_model_summary(model):\n",
    "    print('Model Summary:')\n",
    "    print('--------------------')\n",
    "    total_params = 0\n",
    "    for name, parameter in model.named_parameters():\n",
    "        param = parameter.numel()\n",
    "        total_params+=param\n",
    "        print(f'{name}\\t{str(list(parameter.shape))}\\t{param}')\n",
    "    print('--------------------')\n",
    "    print(f'Total Params:{total_params}')\n",
    "\n",
    "print_model_summary(model)"
   ]
  },
  {
   "cell_type": "markdown",
   "metadata": {},
   "source": [
    "Something important to note here is that in PyTorch's LSTM implementation, an LSTM layer's weights and biases are organized into \"gates\". Each LSTM unit has 4 gates (input, forget, cell and output), so the total number of weight and bias parameters for each LSTM unit is 4 times the number of units https://pytorch.org/docs/stable/generated/torch.nn.LSTM.html.\n",
    "\n",
    "So, for this model:\n",
    "\n",
    "- `lstm.weight_ih_l0 [128, 100]` and `lstm.bias_ih_l0 [128]` are the weights and biases for the input-to-hidden connections. The first dimension is 128 because there are 32 LSTM units * 4 gates per unit\n",
    "\n",
    "- `lstm.weight_hh_l0 [128, 32]` and `lstm.bias_hh_l0 [128]` are the weights and biases for the hidden-to-hidden connections. Here as well, the first dimension is 128 because there are 32 LSTM units * 4 gates per unit"
   ]
  },
  {
   "cell_type": "markdown",
   "metadata": {},
   "source": [
    "### Training The Model"
   ]
  },
  {
   "cell_type": "markdown",
   "metadata": {},
   "source": [
    "PyTorch also requires you to write your own training and testing loops. I decided to organize these into their own functions.\n",
    "\n",
    "The `train_model` function below takes as parameters `epochs`, `train_loader`, `val_loader`, `model`, `criterion`, `optimizer` and `device`.\n",
    "\n",
    "- `epochs` - The number of training iterations\n",
    "- `train_loader` - The data loader with the training data\n",
    "- `val_loader` - The data loader with the validation data\n",
    "- `model` - The model being trained\n",
    "- `criterion` - The loss function to use\n",
    "- `optimizer` - The optimizer to use\n",
    "- `device` - The device on which to train on, ideally GPU but CPU if that's not available\n",
    "\n",
    "The function keeps track of the losses during training, both train and validation. Additionally, the validation accuracies are also tracked."
   ]
  },
  {
   "cell_type": "code",
   "execution_count": null,
   "metadata": {},
   "outputs": [],
   "source": [
    "# Train function\n",
    "\n",
    "def train_model(epochs, train_loader, val_loader, model, criterion, optimizer, device):\n",
    "    train_losses = []\n",
    "    val_losses = []\n",
    "    val_accuracies = []\n",
    "\n",
    "    for epoch in range(epochs):\n",
    "        # Performing training on all batches for an epoch\n",
    "        model.train() # Setting model to training mode\n",
    "        # Initializing progress bar\n",
    "        train_progress_bar = tqdm(train_loader, desc=f'Epoch {epoch + 1}/{epochs}', unit='batch')\n",
    "\n",
    "        # Initializing loss for this epoch\n",
    "        epoch_train_loss = 0\n",
    "        for batch in train_progress_bar:\n",
    "            # Zeroing the gradients\n",
    "            optimizer.zero_grad()\n",
    "\n",
    "            # Sorting the lengths of text in descending order and getting the sorted indices\n",
    "            text_lengths, sorted_idx = batch['text_lengths'].sort(descending=True)\n",
    "            # Using the sorted indices to rearrange the ids and targets\n",
    "            ids = batch['ids'][sorted_idx]\n",
    "            targets = batch['targets'][sorted_idx]\n",
    "\n",
    "            # Moving ids, text_lengths, and targets to the specified device\n",
    "            ids = ids.to(device)\n",
    "            text_lengths = text_lengths.to(device)\n",
    "            targets = targets.to(device)\n",
    "\n",
    "            # Forward pass: computing predictions y by passing x (ids and text lengths) to the model\n",
    "            predictions = model(ids, text_lengths)\n",
    "            # Computing loss with the specified criterion\n",
    "            loss = criterion(predictions, targets)\n",
    "\n",
    "            # Backward pass: computing gradient of the loss with respect to model parameters\n",
    "            loss.backward()\n",
    "            # Performing a single optimization step (parameter update)\n",
    "            optimizer.step()\n",
    "\n",
    "            # Updating training loss for epoch\n",
    "            epoch_train_loss += loss.item()\n",
    "            # Updating progress bar\n",
    "            train_progress_bar.set_postfix({'training_loss': '{:.3f}'.format(loss.item())})\n",
    "\n",
    "        # Appending average training loss for epoch\n",
    "        train_losses.append(epoch_train_loss / len(train_loader))\n",
    "\n",
    "        # Performing validation at the end of each epoch\n",
    "        model.eval() # Setting the model to evaluation mode\n",
    "        with torch.no_grad(): # No gradient during validation\n",
    "            total_loss, total_correct, total_labels = 0, 0, 0\n",
    "            for batch in val_loader:\n",
    "                text_lengths, sorted_idx = batch['text_lengths'].sort(descending=True)\n",
    "                ids = batch['ids'][sorted_idx]\n",
    "                targets = batch['targets'][sorted_idx]\n",
    "\n",
    "                ids = ids.to(device)\n",
    "                text_lengths = text_lengths.to(device)\n",
    "                targets = targets.to(device)\n",
    "\n",
    "                predictions = model(ids, text_lengths)\n",
    "                loss = criterion(predictions, targets)\n",
    "\n",
    "                total_loss += loss.item() * ids.size(0)\n",
    "                total_correct += (predictions.round() == targets).sum().item()\n",
    "                total_labels += ids.size(0)\n",
    "\n",
    "            avg_loss = total_loss / total_labels\n",
    "            avg_acc = total_correct / total_labels\n",
    "\n",
    "            val_losses.append(avg_loss)\n",
    "            val_accuracies.append(avg_acc)\n",
    "\n",
    "            print(f'Validation Loss: {avg_loss:.3f}, Validation Accuracy: {avg_acc:.3f}')\n",
    "\n",
    "    return train_losses, val_losses, val_accuracies"
   ]
  },
  {
   "cell_type": "code",
   "execution_count": null,
   "metadata": {},
   "outputs": [],
   "source": [
    "# Check if CUDA is available and set device to GPU if it is, else CPU\n",
    "device = torch.device('cuda' if torch.cuda.is_available() else 'cpu')\n",
    "print(device)"
   ]
  },
  {
   "cell_type": "code",
   "execution_count": null,
   "metadata": {},
   "outputs": [],
   "source": [
    "# Defining loss function\n",
    "criterion = nn.BCELoss()\n",
    "\n",
    "# Defining the optimizer\n",
    "optimizer = torch.optim.Adam(model.parameters())\n",
    "\n",
    "# Moving the model and loss function to same device\n",
    "model = model.to(device)\n",
    "criterion = criterion.to(device)\n",
    "\n",
    "# Defining number of epochs\n",
    "epochs = 10"
   ]
  },
  {
   "cell_type": "code",
   "execution_count": null,
   "metadata": {},
   "outputs": [],
   "source": [
    "train_losses, val_losses, val_accuracies = train_model(epochs, train_loader, val_loader, model, criterion, optimizer, device)"
   ]
  },
  {
   "cell_type": "code",
   "execution_count": null,
   "metadata": {},
   "outputs": [],
   "source": [
    "# # Saving in Colab\n",
    "# path = \"/content/drive/My Drive/AI classification/model.pth\"\n",
    "\n",
    "# # Save the model\n",
    "# torch.save(model.state_dict(), path)"
   ]
  },
  {
   "cell_type": "code",
   "execution_count": null,
   "metadata": {},
   "outputs": [],
   "source": [
    "# Loading saved model - re-defining model and device so it works without running the whole notebook\n",
    "path = 'model.pth'\n",
    "model = LSTMClassifier(len(tokenizer.vocab), 100)\n",
    "model.load_state_dict(torch.load(path))\n",
    "\n",
    "device = torch.device('cuda' if torch.cuda.is_available() else 'cpu')\n",
    "model.to(device)"
   ]
  },
  {
   "cell_type": "code",
   "execution_count": null,
   "metadata": {},
   "outputs": [],
   "source": [
    "def evaluate_model(test_loader, model, criterion, device):\n",
    "    model.eval()\n",
    "    with torch.no_grad():\n",
    "        total_loss, total_correct, total_labels = 0, 0, 0\n",
    "        all_predictions = []\n",
    "        all_targets = []\n",
    "        for batch in test_loader:\n",
    "            text_lengths, sorted_idx = batch['text_lengths'].sort(descending=True)\n",
    "            ids = batch['ids'][sorted_idx]\n",
    "            targets = batch['targets'][sorted_idx]\n",
    "\n",
    "            ids = ids.to(device)\n",
    "            text_lengths = text_lengths.to(device)\n",
    "            targets = targets.to(device)\n",
    "\n",
    "            predictions = model(ids, text_lengths)\n",
    "            loss = criterion(predictions, targets)\n",
    "\n",
    "            total_loss += loss.item() * ids.size(0)\n",
    "            total_correct += (predictions.round() == targets).sum().item()\n",
    "            total_labels += ids.size(0)\n",
    "\n",
    "            all_predictions.extend(predictions.round().cpu().numpy())\n",
    "            all_targets.extend(targets.cpu().numpy())\n",
    "\n",
    "        avg_loss = total_loss / total_labels\n",
    "        avg_acc = total_correct / total_labels\n",
    "\n",
    "        print(f'Test Loss: {avg_loss:.3f}, Test Accuracy: {avg_acc:.3f}')\n",
    "\n",
    "        class_report = classification_report(all_targets, all_predictions)\n",
    "        conf_matrix = confusion_matrix(all_targets, all_predictions)\n",
    "\n",
    "        print(class_report)\n",
    "\n",
    "    return avg_loss, avg_acc, conf_matrix"
   ]
  },
  {
   "cell_type": "code",
   "execution_count": null,
   "metadata": {},
   "outputs": [],
   "source": [
    "test_loss, test_acc, class_report, conf_matrix = evaluate_model(test_loader, model, criterion, device)"
   ]
  },
  {
   "cell_type": "code",
   "execution_count": null,
   "metadata": {},
   "outputs": [],
   "source": [
    "plt.figure(figsize=(10,7))\n",
    "sns.heatmap(conf_matrix, annot=True, fmt='d')\n",
    "plt.xlabel('Predicted')\n",
    "plt.ylabel('Truth')\n",
    "plt.show()"
   ]
  }
 ],
 "metadata": {
  "kernelspec": {
   "display_name": "classification-project",
   "language": "python",
   "name": "python3"
  },
  "language_info": {
   "codemirror_mode": {
    "name": "ipython",
    "version": 3
   },
   "file_extension": ".py",
   "mimetype": "text/x-python",
   "name": "python",
   "nbconvert_exporter": "python",
   "pygments_lexer": "ipython3",
   "version": "3.9.18"
  }
 },
 "nbformat": 4,
 "nbformat_minor": 2
}
